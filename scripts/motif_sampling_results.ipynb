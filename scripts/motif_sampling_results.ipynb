{
 "cells": [
  {
   "cell_type": "code",
   "execution_count": 1,
   "id": "d6bd7ff8-2caf-46e8-a0c1-cd4529f476e2",
   "metadata": {},
   "outputs": [],
   "source": [
    "import pickle\n",
    "import sys\n",
    "sys.path.append('..')\n",
    "from plotting_functions import plot_motif_row, get_plot_data, get_lg_julia\n",
    "import matplotlib.pyplot as plt\n",
    "%matplotlib inline"
   ]
  },
  {
   "cell_type": "code",
   "execution_count": 2,
   "id": "e4272352-ec58-4817-9dc6-14fb21d312f0",
   "metadata": {},
   "outputs": [],
   "source": [
    "mapping = {\n",
    "    ('A','B','A'): 0,\n",
    "    ('A','B','C'): 1,\n",
    "    ('A','B','A','B'): 2,\n",
    "    ('A','B','C','B'): 3,\n",
    "    ('A','B','A','C'): 4,\n",
    "    ('A','B','C','A'): 5,\n",
    "    ('A','B','C','D'): 6,\n",
    "    #('A','B','C','B','A'):7,\n",
    "}\n",
    "kvals = [2,3]\n",
    "keys = 'lg-s', 'bdg', 'h', 'rw-uw', 'rw-w'\n",
    "xticklabels = ['Total', r'$G^k_c$', r'$G^k$', 'HYPA', 'RW', 'RW-W']"
   ]
  },
  {
   "cell_type": "markdown",
   "id": "5b98b0ae-bcfe-46b0-a77f-de851258c24c",
   "metadata": {},
   "source": [
    "# Flights"
   ]
  },
  {
   "cell_type": "code",
   "execution_count": 3,
   "id": "2d1063b3-eeeb-4885-afe3-378629d867d4",
   "metadata": {},
   "outputs": [
    {
     "ename": "FileNotFoundError",
     "evalue": "[Errno 2] No such file or directory: '../../results/motifs/coupons_2020_q1.ngram_k-2_e-rw-uw_bn_ww.csv'",
     "output_type": "error",
     "traceback": [
      "\u001b[0;31m---------------------------------------------------------------------------\u001b[0m",
      "\u001b[0;31mFileNotFoundError\u001b[0m                         Traceback (most recent call last)",
      "Input \u001b[0;32mIn [3]\u001b[0m, in \u001b[0;36m<cell line: 4>\u001b[0;34m()\u001b[0m\n\u001b[1;32m      2\u001b[0m title \u001b[38;5;241m=\u001b[39m \u001b[38;5;124m\"\u001b[39m\u001b[38;5;124mFlights - Q1\u001b[39m\u001b[38;5;124m\"\u001b[39m\n\u001b[1;32m      3\u001b[0m normalized \u001b[38;5;241m=\u001b[39m \u001b[38;5;28;01mFalse\u001b[39;00m\n\u001b[0;32m----> 4\u001b[0m rw_data \u001b[38;5;241m=\u001b[39m \u001b[43mget_lg_julia\u001b[49m\u001b[43m(\u001b[49m\u001b[43minput_path\u001b[49m\u001b[43m \u001b[49m\u001b[38;5;241;43m+\u001b[39;49m\u001b[43m \u001b[49m\u001b[38;5;124;43m'\u001b[39;49m\u001b[38;5;124;43m_k-\u001b[39;49m\u001b[38;5;132;43;01m{}\u001b[39;49;00m\u001b[38;5;124;43m_e-\u001b[39;49m\u001b[38;5;132;43;01m{}\u001b[39;49;00m\u001b[38;5;124;43m_bn_ww.csv\u001b[39;49m\u001b[38;5;124;43m'\u001b[39;49m\u001b[43m,\u001b[49m\n\u001b[1;32m      5\u001b[0m \u001b[43m                        \u001b[49m\u001b[43mkvals\u001b[49m\u001b[38;5;241;43m=\u001b[39;49m\u001b[43mkvals\u001b[49m\u001b[43m,\u001b[49m\u001b[43m \u001b[49m\u001b[43mkeys\u001b[49m\u001b[38;5;241;43m=\u001b[39;49m\u001b[43mkeys\u001b[49m\u001b[43m[\u001b[49m\u001b[38;5;241;43m3\u001b[39;49m\u001b[43m:\u001b[49m\u001b[43m]\u001b[49m\u001b[43m)\u001b[49m    \n\u001b[1;32m      7\u001b[0m \u001b[38;5;66;03m# lgs brute force\u001b[39;00m\n\u001b[1;32m      8\u001b[0m lgs_bf \u001b[38;5;241m=\u001b[39m get_lg_julia(input_path \u001b[38;5;241m+\u001b[39m \u001b[38;5;124m'\u001b[39m\u001b[38;5;124m_k-\u001b[39m\u001b[38;5;132;01m{}\u001b[39;00m\u001b[38;5;124m_e-lg-s_bn_ww_wpn--1.csv\u001b[39m\u001b[38;5;124m'\u001b[39m,\n\u001b[1;32m      9\u001b[0m                         kvals\u001b[38;5;241m=\u001b[39mkvals, keys\u001b[38;5;241m=\u001b[39m[keys[\u001b[38;5;241m0\u001b[39m]])\n",
      "File \u001b[0;32m~/git/DeBruijnNets.jl/scripts/plotting_functions.py:190\u001b[0m, in \u001b[0;36mget_lg_julia\u001b[0;34m(filename, keys, kvals)\u001b[0m\n\u001b[1;32m    188\u001b[0m \u001b[38;5;28;01mfor\u001b[39;00m k \u001b[38;5;129;01min\u001b[39;00m kvals:\n\u001b[1;32m    189\u001b[0m     \u001b[38;5;28;01mfor\u001b[39;00m ensemble \u001b[38;5;129;01min\u001b[39;00m keys:\n\u001b[0;32m--> 190\u001b[0m         \u001b[38;5;28;01mwith\u001b[39;00m \u001b[38;5;28;43mopen\u001b[39;49m\u001b[43m(\u001b[49m\u001b[43mfilename\u001b[49m\u001b[38;5;241;43m.\u001b[39;49m\u001b[43mformat\u001b[49m\u001b[43m(\u001b[49m\u001b[43mk\u001b[49m\u001b[43m,\u001b[49m\u001b[43m \u001b[49m\u001b[43mensemble\u001b[49m\u001b[43m)\u001b[49m\u001b[43m,\u001b[49m\u001b[43m \u001b[49m\u001b[38;5;124;43m'\u001b[39;49m\u001b[38;5;124;43mr\u001b[39;49m\u001b[38;5;124;43m'\u001b[39;49m\u001b[43m)\u001b[49m \u001b[38;5;28;01mas\u001b[39;00m fin:\n\u001b[1;32m    191\u001b[0m             \u001b[38;5;28;01mfor\u001b[39;00m line \u001b[38;5;129;01min\u001b[39;00m fin:\n\u001b[1;32m    192\u001b[0m                 arr \u001b[38;5;241m=\u001b[39m line\u001b[38;5;241m.\u001b[39mstrip()\u001b[38;5;241m.\u001b[39msplit(\u001b[38;5;124m'\u001b[39m\u001b[38;5;124m|\u001b[39m\u001b[38;5;124m'\u001b[39m)\n",
      "\u001b[0;31mFileNotFoundError\u001b[0m: [Errno 2] No such file or directory: '../../results/motifs/coupons_2020_q1.ngram_k-2_e-rw-uw_bn_ww.csv'"
     ]
    }
   ],
   "source": [
    "input_path = '../../results/motifs/coupons_2020_q1.ngram'\n",
    "title = \"Flights - Q1\"\n",
    "normalized = False\n",
    "rw_data = get_lg_julia(input_path + '_k-{}_e-{}_bn_ww.csv',\n",
    "                        kvals=kvals, keys=keys[3:])    \n",
    "\n",
    "# lgs brute force\n",
    "lgs_bf = get_lg_julia(input_path + '_k-{}_e-lg-s_bn_ww_wpn--1.csv',\n",
    "                        kvals=kvals, keys=[keys[0]])\n",
    "\n",
    "bdg = get_lg_julia(input_path + '_k-{}_e-bdg.csv',\n",
    "                        kvals=kvals, keys=[keys[1]])\n",
    "\n",
    "h_data = get_lg_julia(filename=input_path + '_k-{}_e-{}.csv',\n",
    "                        keys=keys[2], kvals=kvals)\n",
    "plot_data = dict()\n",
    "for motif in rw_data:\n",
    "    plot_data[motif] = dict()\n",
    "    plot_data[motif]['frequency'] = lgs_bf[motif]['frequency']\n",
    "    plot_data[motif]['avg_lg-s'] = lgs_bf[motif]['avg_lg-s']\n",
    "    plot_data[motif]['std_lg-s'] = lgs_bf[motif]['std_lg-s']\n",
    "    plot_data[motif]['avg_bdg'] = bdg[motif]['avg_bdg']\n",
    "    plot_data[motif]['std_bdg'] = bdg[motif]['std_bdg']\n",
    "    plot_data[motif]['avg_h'] = h_data[motif]['avg_h']\n",
    "    plot_data[motif]['std_h'] = h_data[motif]['std_h']\n",
    "    plot_data[motif]['avg_rw-uw']= rw_data[motif]['avg_rw-uw']\n",
    "    plot_data[motif]['std_rw-uw']= rw_data[motif]['std_rw-uw']\n",
    "    plot_data[motif]['avg_rw-w']= rw_data[motif]['avg_rw-w']\n",
    "    plot_data[motif]['std_rw-w']= rw_data[motif]['std_rw-w']\n",
    "\n",
    "\n",
    "# Finished\n",
    "plot_motif_row(plot_data, mapping=mapping, normalized_y=False, log_y=False, ylabel_xcord=-0.08, rescale_yticks=True,\n",
    "             plot_motifs=True, title=title, keys=keys, xticklabels=xticklabels,\n",
    "              output_file='../../paper/sequential-motifs/figures/coupons_2020_q1.ngram.pdf')"
   ]
  },
  {
   "cell_type": "code",
   "execution_count": 4,
   "id": "c9029c47-d60f-41da-ad0a-7fbf896b8955",
   "metadata": {},
   "outputs": [
    {
     "name": "stderr",
     "output_type": "stream",
     "text": [
      "/Users/timothylarock/git/debruijn-nets/code/notebooks/../plotting_functions.py:539: UserWarning: Tight layout not applied. tight_layout cannot make axes height small enough to accommodate all axes decorations.\n",
      "  plt.tight_layout()\n"
     ]
    },
    {
     "data": {
      "image/png": "[encoded data removed]",
      "text/plain": [
       "<Figure size 576x576 with 7 Axes>"
      ]
     },
     "metadata": {
      "needs_background": "light"
     },
     "output_type": "display_data"
    }
   ],
   "source": [
    "input_path = '../../results/motifs/coupons_2020_q2.ngram'\n",
    "title = \"Flights - Q2\"\n",
    "normalized = False\n",
    "rw_data = get_lg_julia(input_path + '_k-{}_e-{}_bn_ww.csv',\n",
    "                        kvals=kvals, keys=keys[3:])    \n",
    "\n",
    "# lgs brute force\n",
    "lgs_bf = get_lg_julia(input_path + '_k-{}_e-lg-s_bn_ww_wpn--1.csv',\n",
    "                        kvals=kvals, keys=[keys[0]])\n",
    "\n",
    "bdg = get_lg_julia(input_path + '_k-{}_e-bdg.csv',\n",
    "                        kvals=kvals, keys=[keys[1]])\n",
    "\n",
    "h_data = get_plot_data(filename=input_path + '_k-{}_e-{}_w.pickle',\n",
    "                          normalized=normalized, keys=keys[2], kvals=kvals)\n",
    "plot_data = dict()\n",
    "for motif in rw_data:\n",
    "    plot_data[motif] = dict()\n",
    "    plot_data[motif]['frequency'] = lgs_bf[motif]['frequency']\n",
    "    plot_data[motif]['avg_lg-s'] = lgs_bf[motif]['avg_lg-s']\n",
    "    plot_data[motif]['std_lg-s'] = lgs_bf[motif]['std_lg-s']\n",
    "    plot_data[motif]['avg_bdg'] = bdg[motif]['avg_bdg']\n",
    "    plot_data[motif]['std_bdg'] = bdg[motif]['std_bdg']\n",
    "    plot_data[motif]['avg_h'] = h_data[motif]['avg_h']\n",
    "    plot_data[motif]['std_h'] = h_data[motif]['std_h']\n",
    "    plot_data[motif]['avg_rw-uw']= rw_data[motif]['avg_rw-uw']\n",
    "    plot_data[motif]['std_rw-uw']= rw_data[motif]['std_rw-uw']\n",
    "    plot_data[motif]['avg_rw-w']= rw_data[motif]['avg_rw-w']\n",
    "    plot_data[motif]['std_rw-w']= rw_data[motif]['std_rw-w']\n",
    "\n",
    "\n",
    "# Finished\n",
    "plot_motif_row(plot_data, mapping=mapping, normalized_y=False, log_y=False, ylabel_xcord=-0.08, rescale_yticks=True,\n",
    "            plot_hypa=False, plot_motifs=False, title=title, keys=keys, xticklabels=xticklabels,\n",
    "              output_file='../../paper/sequential-motifs/figures/coupons_2020_q2.ngram.pdf')"
   ]
  },
  {
   "cell_type": "markdown",
   "id": "04a510be-9cff-4d2f-a456-d0a7b437c940",
   "metadata": {},
   "source": [
    "# Wiki"
   ]
  },
  {
   "cell_type": "code",
   "execution_count": null,
   "id": "2c535a61-e947-44fb-9185-b01c2d7e7191",
   "metadata": {},
   "outputs": [],
   "source": [
    "input_path = '../../results/motifs/wikispeedia_finished_all.ngram'\n",
    "title = \"Wikispeedia - Finished\"\n",
    "normalized = False\n",
    "rw_data = get_lg_julia(input_path + '_k-{}_e-{}_bn_ww.csv',\n",
    "                        kvals=kvals, keys=keys[3:])    \n",
    "\n",
    "# lgs brute force\n",
    "lgs_bf = get_lg_julia(input_path + '_k-{}_e-lg-s_bn_ww_wpn--1.csv',\n",
    "                        kvals=kvals, keys=[keys[0]])\n",
    "\n",
    "bdg = get_lg_julia(input_path + '_k-{}_e-bdg.csv',\n",
    "                        kvals=kvals, keys=[keys[1]])\n",
    "\n",
    "h_data = get_plot_data(filename=input_path + '_k-{}_e-{}_w.pickle',\n",
    "                          normalized=normalized, keys=keys[2], kvals=kvals)\n",
    "plot_data = dict()\n",
    "for motif in rw_data:\n",
    "    plot_data[motif] = dict()\n",
    "    plot_data[motif]['frequency'] = lgs_bf[motif]['frequency']\n",
    "    plot_data[motif]['avg_lg-s'] = lgs_bf[motif]['avg_lg-s']\n",
    "    plot_data[motif]['std_lg-s'] = lgs_bf[motif]['std_lg-s']\n",
    "    plot_data[motif]['avg_bdg'] = bdg[motif]['avg_bdg']\n",
    "    plot_data[motif]['std_bdg'] = bdg[motif]['std_bdg']\n",
    "    plot_data[motif]['avg_h'] = h_data[motif]['avg_h']\n",
    "    plot_data[motif]['std_h'] = h_data[motif]['std_h']\n",
    "    plot_data[motif]['avg_rw-uw']= rw_data[motif]['avg_rw-uw']\n",
    "    plot_data[motif]['std_rw-uw']= rw_data[motif]['std_rw-uw']\n",
    "    plot_data[motif]['avg_rw-w']= rw_data[motif]['avg_rw-w']\n",
    "    plot_data[motif]['std_rw-w']= rw_data[motif]['std_rw-w']\n",
    "# Finished\n",
    "plot_motif_row(plot_data, mapping=mapping, normalized_y=False, log_y=False, ylabel_xcord=-0.08, rescale_yticks=True,\n",
    "            plot_hypa=False, plot_motifs=True, title=title, keys=keys, xticklabels=xticklabels,\n",
    "              output_file='../../paper/sequential-motifs/figures/wikispeedia_finished_all.ngram.pdf')"
   ]
  },
  {
   "cell_type": "code",
   "execution_count": null,
   "id": "a07631a3-1d26-485c-88c5-22afb4315cc5",
   "metadata": {},
   "outputs": [],
   "source": [
    "input_path = '../../results/motifs/wikispeedia_unfinished_all.ngram'\n",
    "title = \"Wikispeedia - Unfinished\"\n",
    "normalized = False\n",
    "rw_data = get_lg_julia(input_path + '_k-{}_e-{}_bn_ww.csv',\n",
    "                        kvals=kvals, keys=keys[3:])    \n",
    "\n",
    "# lgs brute force\n",
    "lgs_bf = get_lg_julia(input_path + '_k-{}_e-lg-s_bn_ww_wpn--1.csv',\n",
    "                        kvals=kvals, keys=[keys[0]])\n",
    "\n",
    "bdg = get_lg_julia(input_path + '_k-{}_e-bdg.csv',\n",
    "                        kvals=kvals, keys=[keys[1]])\n",
    "\n",
    "h_data = get_plot_data(filename=input_path + '_k-{}_e-{}_w.pickle',\n",
    "                          normalized=normalized, keys=keys[2], kvals=kvals)\n",
    "plot_data = dict()\n",
    "for motif in rw_data:\n",
    "    plot_data[motif] = dict()\n",
    "    plot_data[motif]['frequency'] = lgs_bf[motif]['frequency']\n",
    "    plot_data[motif]['avg_lg-s'] = lgs_bf[motif]['avg_lg-s']\n",
    "    plot_data[motif]['std_lg-s'] = lgs_bf[motif]['std_lg-s']\n",
    "    plot_data[motif]['avg_bdg'] = bdg[motif]['avg_bdg']\n",
    "    plot_data[motif]['std_bdg'] = bdg[motif]['std_bdg']\n",
    "    plot_data[motif]['avg_h'] = h_data[motif]['avg_h']\n",
    "    plot_data[motif]['std_h'] = h_data[motif]['std_h']\n",
    "    plot_data[motif]['avg_rw-uw']= rw_data[motif]['avg_rw-uw']\n",
    "    plot_data[motif]['std_rw-uw']= rw_data[motif]['std_rw-uw']\n",
    "    plot_data[motif]['avg_rw-w']= rw_data[motif]['avg_rw-w']\n",
    "    plot_data[motif]['std_rw-w']= rw_data[motif]['std_rw-w']\n",
    "\n",
    "    \n",
    "# Finished\n",
    "plot_motif_row(plot_data, mapping=mapping, normalized_y=False, log_y=False, ylabel_xcord=-0.08, rescale_yticks=True,\n",
    "            plot_hypa=False, plot_motifs=False, title=title, keys=keys, xticklabels=xticklabels,\n",
    "              output_file='../../paper/sequential-motifs/figures/wikispeedia_unfinished_all.ngram.pdf')"
   ]
  },
  {
   "cell_type": "code",
   "execution_count": null,
   "id": "8c76f08a-c705-4f7f-9dd5-dfea0b417c8e",
   "metadata": {},
   "outputs": [],
   "source": [
    "input_path = '../../results/motifs/ams-nl.20151209.1449626400.warts.ngram'\n",
    "title = \"Caida\"\n",
    "normalized = False\n",
    "rw_data = get_lg_julia(input_path + '_k-{}_e-{}_bn_ww.csv',\n",
    "                        kvals=kvals, keys=keys[3:])    \n",
    "\n",
    "# lgs brute force\n",
    "lgs_bf = get_lg_julia(input_path + '_k-{}_e-lg-s_bn_ww_wpn--1.csv',\n",
    "                        kvals=kvals, keys=[keys[0]])\n",
    "\n",
    "bdg = get_lg_julia(input_path + '_k-{}_e-bdg.csv',\n",
    "                        kvals=kvals, keys=[keys[1]])\n",
    "\n",
    "h_data = get_plot_data(filename=input_path + '_k-{}_e-{}_w.pickle',\n",
    "                          normalized=normalized, keys=keys[2], kvals=kvals)\n",
    "plot_data = dict()\n",
    "for motif in rw_data:\n",
    "    plot_data[motif] = dict()\n",
    "    plot_data[motif]['frequency'] = lgs_bf[motif]['frequency']\n",
    "    plot_data[motif]['avg_lg-s'] = lgs_bf[motif]['avg_lg-s']\n",
    "    plot_data[motif]['std_lg-s'] = lgs_bf[motif]['std_lg-s']\n",
    "    plot_data[motif]['avg_bdg'] = bdg[motif]['avg_bdg']\n",
    "    plot_data[motif]['std_bdg'] = bdg[motif]['std_bdg']\n",
    "    plot_data[motif]['avg_h'] = h_data[motif]['avg_h']\n",
    "    plot_data[motif]['std_h'] = h_data[motif]['std_h']\n",
    "    plot_data[motif]['avg_rw-uw']= rw_data[motif]['avg_rw-uw']\n",
    "    plot_data[motif]['std_rw-uw']= rw_data[motif]['std_rw-uw']\n",
    "    plot_data[motif]['avg_rw-w']= rw_data[motif]['avg_rw-w']\n",
    "    plot_data[motif]['std_rw-w']= rw_data[motif]['std_rw-w']\n",
    "\n",
    "plot_motif_row(plot_data, mapping=mapping, normalized_y=False, log_y=False, ylabel_xcord=-0.08, rescale_yticks=True,\n",
    "            plot_hypa=False, plot_motifs=True, title=title, keys=keys, xticklabels=xticklabels,\n",
    "              output_file='../../paper/sequential-motifs/figures/ams-nl.20151209.1449626400.warts.ngram.pdf')"
   ]
  },
  {
   "cell_type": "code",
   "execution_count": null,
   "id": "6081caae-24c5-43cf-a23c-889d71cedc99",
   "metadata": {},
   "outputs": [],
   "source": []
  },
  {
   "cell_type": "code",
   "execution_count": null,
   "id": "2ca71fc8-ed25-4f9a-9cbf-9b9360c624a2",
   "metadata": {},
   "outputs": [],
   "source": []
  }
 ],
 "metadata": {
  "kernelspec": {
   "display_name": "Python 3 (ipykernel)",
   "language": "python",
   "name": "python3"
  },
  "language_info": {
   "codemirror_mode": {
    "name": "ipython",
    "version": 3
   },
   "file_extension": ".py",
   "mimetype": "text/x-python",
   "name": "python",
   "nbconvert_exporter": "python",
   "pygments_lexer": "ipython3",
   "version": "3.9.12"
  }
 },
 "nbformat": 4,
 "nbformat_minor": 5
}
